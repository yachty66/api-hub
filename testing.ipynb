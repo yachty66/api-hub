{
 "cells": [
  {
   "cell_type": "code",
   "execution_count": 2,
   "metadata": {},
   "outputs": [
    {
     "name": "stdout",
     "output_type": "stream",
     "text": [
      "{'status': 'success', 'url': 'https://api-lexica.s3.amazonaws.com/premium-ai-image-upscaler-api/778a5790-56fb-4a70-8998-0a4c8f964f79.png'}\n"
     ]
    }
   ],
   "source": [
    "#hello world \n",
    "import requests\n",
    "\n",
    "url = \"https://premium-ai-image-upscaler-api1.p.rapidapi.com/upscale\"\n",
    "\n",
    "querystring = {\"image_url\":\"https://api-lexica.s3.us-east-1.amazonaws.com/a23621bb-ec06-4bb3-b684-4c133ffdb4d5.JPG\",\"prompt\":\"UHD 4k\"}\n",
    "\n",
    "headers = {\n",
    "\t\"x-rapidapi-key\": \"d9f8c5fc36mshd8fd9a26c9cba79p1686ebjsnb7fbce646a18\",\n",
    "\t\"x-rapidapi-host\": \"premium-ai-image-upscaler-api1.p.rapidapi.com\"\n",
    "}\n",
    "\n",
    "response = requests.get(url, headers=headers, params=querystring)\n",
    "\n",
    "print(response.json())"
   ]
  },
  {
   "cell_type": "code",
   "execution_count": 6,
   "metadata": {},
   "outputs": [
    {
     "name": "stdout",
     "output_type": "stream",
     "text": [
      "{'status': 'success', 'url': 'https://api-lexica.s3.amazonaws.com/premium-ai-image-upscaler-api/a5c07886-8449-4fad-a4a3-4d4db6f7d398.png'}\n"
     ]
    }
   ],
   "source": [
    "import requests\n",
    "\n",
    "# Test the API\n",
    "response = requests.get(\n",
    "    \"http://127.0.0.1:8000/upscale\",\n",
    "    params={\n",
    "        \"image_url\": \"https://storage.googleapis.com/apihub85/0_1.webp\",  # use a real image URL\n",
    "        \"prompt\": \"UHD 4k vogue style\"\n",
    "    }\n",
    ")\n",
    "\n",
    "print(response.json())"
   ]
  },
  {
   "cell_type": "code",
   "execution_count": 11,
   "metadata": {},
   "outputs": [
    {
     "name": "stdout",
     "output_type": "stream",
     "text": [
      "{'status': 'success', 'url': 'https://api-lexica.s3.amazonaws.com/ai-photo-restoration-api/baa747c8-e5d3-43b3-b436-d4ff7ed8bdee.png'}\n"
     ]
    }
   ],
   "source": [
    "import requests\n",
    "\n",
    "\n",
    "# Test the API\n",
    "response = requests.get(\n",
    "    \"http://127.0.0.1:8000/restore\",\n",
    "    params={\n",
    "        \"image_url\": \"https://api-lexica.s3.us-east-1.amazonaws.com/examples/0014.jpg\",  # use a real image URL\n",
    "    }\n",
    ")\n",
    "\n",
    "print(response.json())"
   ]
  },
  {
   "cell_type": "code",
   "execution_count": null,
   "metadata": {},
   "outputs": [],
   "source": [
    "import requests\n",
    "\n",
    "url = \"https://ai-photo-restoration-api.p.rapidapi.com/restore\"\n",
    "\n",
    "querystring = {\"image_url\":\"https://storage.googleapis.com/apihub85/0_1.webp\"}\n",
    "\n",
    "headers = {\n",
    "\t\"x-rapidapi-key\": \"d9f8c5fc36mshd8fd9a26c9cba79p1686ebjsnb7fbce646a18\",\n",
    "\t\"x-rapidapi-host\": \"ai-photo-restoration-api.p.rapidapi.com\"\n",
    "}\n",
    "\n",
    "response = requests.get(url, headers=headers, params=querystring)\n",
    "\n",
    "print(response.json())"
   ]
  },
  {
   "cell_type": "code",
   "execution_count": 3,
   "metadata": {},
   "outputs": [
    {
     "name": "stdout",
     "output_type": "stream",
     "text": [
      "{'status': 'success', 'url': 'https://api-lexica.s3.amazonaws.com/ai-photo-restoration-api/0cf8ca40-2369-44b4-a912-cc4a611aa2a7.png'}\n"
     ]
    }
   ],
   "source": [
    "import requests\n",
    "\n",
    "url = \"https://ai-photo-restoration-api.p.rapidapi.com/restore\"\n",
    "\n",
    "querystring = {\"image_url\":\"https://api-lexica.s3.us-east-1.amazonaws.com/examples/0014.jpg\"}\n",
    "\n",
    "headers = {\n",
    "\t\"x-rapidapi-key\": \"d9f8c5fc36mshd8fd9a26c9cba79p1686ebjsnb7fbce646a18\",\n",
    "\t\"x-rapidapi-host\": \"ai-photo-restoration-api.p.rapidapi.com\"\n",
    "}\n",
    "\n",
    "response = requests.get(url, headers=headers, params=querystring)\n",
    "\n",
    "print(response.json())"
   ]
  },
  {
   "cell_type": "code",
   "execution_count": 2,
   "metadata": {},
   "outputs": [
    {
     "name": "stdout",
     "output_type": "stream",
     "text": [
      "{'status': 'success', 'url': 'https://api-lexica.s3.amazonaws.com/ai-photo-restoration-api/8d7ed709-b7f4-4193-9de5-0a182373df3f.png'}\n"
     ]
    }
   ],
   "source": []
  },
  {
   "cell_type": "code",
   "execution_count": 8,
   "metadata": {},
   "outputs": [
    {
     "name": "stdout",
     "output_type": "stream",
     "text": [
      "{'status': 'error', 'message': 'Error appeared please try again or reach out to support@apilexica.com'}\n"
     ]
    }
   ],
   "source": [
    "import requests\n",
    "\n",
    "# Test the API\n",
    "response = requests.get(\n",
    "    \"http://127.0.0.1:8000/3d\",\n",
    "    params={\n",
    "        \"image_url\": \"https://replicate.delivery/pbxt/MJaYRxQMgIzPsALScNadsZFCXR2h1n97xBzhRinmUQw9aw25/ephemeros_a_dune_sandworm_with_black_background_de398ce7-2276-4634-8f1d-c4ed2423cda4.png\",  # use a real image URL\n",
    "    }\n",
    ")\n",
    "\n",
    "print(response.json())"
   ]
  },
  {
   "cell_type": "code",
   "execution_count": null,
   "metadata": {},
   "outputs": [],
   "source": []
  }
 ],
 "metadata": {
  "kernelspec": {
   "display_name": "base",
   "language": "python",
   "name": "python3"
  },
  "language_info": {
   "codemirror_mode": {
    "name": "ipython",
    "version": 3
   },
   "file_extension": ".py",
   "mimetype": "text/x-python",
   "name": "python",
   "nbconvert_exporter": "python",
   "pygments_lexer": "ipython3",
   "version": "3.11.10"
  }
 },
 "nbformat": 4,
 "nbformat_minor": 2
}
