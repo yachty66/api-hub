{
 "cells": [
  {
   "cell_type": "markdown",
   "metadata": {},
   "source": [
    "# Fast"
   ]
  },
  {
   "cell_type": "code",
   "execution_count": 2,
   "metadata": {},
   "outputs": [],
   "source": [
    "import replicate\n",
    "\n",
    "input = {\n",
    "    \"image\": \"https://replicate.delivery/pbxt/Ing7Fa4YMk6YtcoG1YZnaK3UwbgDB5guRc5M2dEjV6ODNLMl/cat.jpg\",\n",
    "    \"scale\": 2\n",
    "}\n",
    "\n",
    "output = replicate.run(\n",
    "    \"nightmareai/real-esrgan:f121d640bd286e1fdc67f9799164c1d5be36ff74576ee11c803ae5b665dd46aa\",\n",
    "    input=input\n",
    ")\n",
    "with open(\"output.png\", \"wb\") as file:\n",
    "    file.write(output.read())\n",
    "#=> output.png written to disk"
   ]
  },
  {
   "cell_type": "markdown",
   "metadata": {},
   "source": [
    "# Premium"
   ]
  },
  {
   "cell_type": "code",
   "execution_count": 7,
   "metadata": {},
   "outputs": [],
   "source": [
    "import replicate\n",
    "\n",
    "input = {\n",
    "    \"image\": \"https://replicate.delivery/pbxt/KA9yP9n3ZX5A5mkoPz3gsPzKTH1NA7LqVkQRTg7Sov46lOfo/0_1.webp\",\n",
    "    \"prompt\": \"UHD 4k vogue, a woman resting in a magic pool, face above the surface of the water, red freckles\"\n",
    "}\n",
    "\n",
    "output = replicate.run(\n",
    "    \"batouresearch/magic-image-refiner:507ddf6f977a7e30e46c0daefd30de7d563c72322f9e4cf7cbac52ef0f667b13\",\n",
    "    input=input\n",
    ")\n",
    "\n",
    "# print(output)\n",
    "\n",
    "for index, item in enumerate(output):\n",
    "    with open(f\"output_{index}.png\", \"wb\") as file:\n",
    "        file.write(item.read())\n",
    "#=> output_0.png written to disk"
   ]
  },
  {
   "cell_type": "code",
   "execution_count": 4,
   "metadata": {},
   "outputs": [
    {
     "name": "stdout",
     "output_type": "stream",
     "text": [
      "Status Code: 200\n",
      "<Response [200]>\n"
     ]
    }
   ],
   "source": [
    "import requests\n",
    "\n",
    "response = requests.post(\n",
    "    \"http://localhost:8000/upscale\",\n",
    "    json={\n",
    "        \"image_url\": \"https://replicate.delivery/pbxt/KA9yP9n3ZX5A5mkoPz3gsPzKTH1NA7LqVkQRTg7Sov46lOfo/0_1.webp\",\n",
    "        \"prompt\": \"UHD 4k vogue\"\n",
    "    }\n",
    ")\n",
    "\n",
    "print(f\"Status Code: {response.status_code}\")\n",
    "print(response)"
   ]
  },
  {
   "cell_type": "code",
   "execution_count": 5,
   "metadata": {},
   "outputs": [
    {
     "name": "stdout",
     "output_type": "stream",
     "text": [
      "Status Code: 404\n",
      "Error: 404\n",
      "Response: {\"detail\":\"Not Found\"}\n"
     ]
    }
   ],
   "source": [
    "import requests\n",
    "\n",
    "response = requests.post(\n",
    "    \"https://premium-ai-image-upscaler-api-production.up.railway.app/upscale\",\n",
    "    json={\n",
    "        \"image_url\": \"https://replicate.delivery/pbxt/KA9yP9n3ZX5A5mkoPz3gsPzKTH1NA7LqVkQRTg7Sov46lOfo/0_1.webp\",\n",
    "        \"prompt\": \"UHD 4k vogue\"\n",
    "    }\n",
    ")\n",
    "\n",
    "print(f\"Status Code: {response.status_code}\")\n",
    "# Save the image\n",
    "if response.status_code == 200:\n",
    "    with open(\"upscaled_image.png\", \"wb\") as f:\n",
    "        f.write(response.content)\n",
    "    print(\"Image saved successfully as upscaled_image.png\")\n",
    "else:\n",
    "    print(f\"Error: {response.status_code}\")\n",
    "    print(f\"Response: {response.text}\")"
   ]
  },
  {
   "cell_type": "code",
   "execution_count": null,
   "metadata": {},
   "outputs": [],
   "source": []
  }
 ],
 "metadata": {
  "kernelspec": {
   "display_name": "base",
   "language": "python",
   "name": "python3"
  },
  "language_info": {
   "codemirror_mode": {
    "name": "ipython",
    "version": 3
   },
   "file_extension": ".py",
   "mimetype": "text/x-python",
   "name": "python",
   "nbconvert_exporter": "python",
   "pygments_lexer": "ipython3",
   "version": "3.11.10"
  }
 },
 "nbformat": 4,
 "nbformat_minor": 2
}
