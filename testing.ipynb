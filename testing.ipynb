{
 "cells": [
  {
   "cell_type": "code",
   "execution_count": 4,
   "metadata": {},
   "outputs": [
    {
     "name": "stdout",
     "output_type": "stream",
     "text": [
      "{'messages': 'The API is unreachable, please contact the API provider', 'info': 'Your Client (working) ---> Gateway (working) ---> API (not working)'}\n"
     ]
    }
   ],
   "source": [
    "#hello world \n",
    "import requests\n",
    "\n",
    "url = \"https://premium-ai-image-upscaler-api1.p.rapidapi.com/upscale\"\n",
    "\n",
    "querystring = {\"image_url\":\"https://storage.googleapis.com/apihub85/0_1.webp\",\"prompt\":\"UHD 4k vogue style\"}\n",
    "\n",
    "headers = {\n",
    "\t\"x-rapidapi-key\": \"d9f8c5fc36mshd8fd9a26c9cba79p1686ebjsnb7fbce646a18\",\n",
    "\t\"x-rapidapi-host\": \"premium-ai-image-upscaler-api1.p.rapidapi.com\"\n",
    "}\n",
    "\n",
    "response = requests.get(url, headers=headers, params=querystring)\n",
    "\n",
    "print(response.json())"
   ]
  },
  {
   "cell_type": "code",
   "execution_count": null,
   "metadata": {},
   "outputs": [],
   "source": []
  }
 ],
 "metadata": {
  "language_info": {
   "name": "python"
  }
 },
 "nbformat": 4,
 "nbformat_minor": 2
}
